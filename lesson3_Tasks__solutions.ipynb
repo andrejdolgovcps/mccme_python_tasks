{
 "cells": [
  {
   "cell_type": "markdown",
   "metadata": {
    "colab_type": "text",
    "collapsed": true,
    "id": "J5SydJou3Jkh"
   },
   "source": [
    "<center>\n",
    "<img src=\"../img/python_theme.png\">\n",
    "# MLClass. \"Прикладной анализ данных\"\n",
    "# Модуль \"Инструментарий Data Science\"\n",
    "<img src=\"../img/mlclass_logo.jpg\" height=\"240\" width=\"240\">\n",
    "\n",
    "## Автор материала: Юрий Кашницкий, ФКН НИУ ВШЭ\n",
    "</center>\n",
    "Материал распространяется на условиях лицензии <a href=\"https://opensource.org/licenses/MS-RL\">Ms-RL</a>. Можно использовать в любых целях, кроме коммерческих, но с обязательным упоминанием автора материала."
   ]
  },
  {
   "cell_type": "markdown",
   "metadata": {
    "colab_type": "text",
    "id": "9dd0a7Sj3Jkk"
   },
   "source": [
    "# Задачи к уроку 3\n",
    "http://informatics.mccme.ru/mod/statements/view.php?id=16206#1"
   ]
  },
  {
   "cell_type": "code",
   "execution_count": null,
   "metadata": {
    "colab": {},
    "colab_type": "code",
    "id": "uycGawaq3Jkl"
   },
   "outputs": [],
   "source": [
    "# Python 2 and 3 compatibility\n",
    "# pip install future\n",
    "from __future__ import (absolute_import, division,\n",
    "                        print_function, unicode_literals)\n",
    "from builtins import *"
   ]
  },
  {
   "cell_type": "markdown",
   "metadata": {
    "colab_type": "text",
    "id": "-l5HVNI13Jk0"
   },
   "source": [
    "## Задача A\n",
    "Даны два целых числа A и B (при этом A $\\leq$ B). Выведите все числа от A до B включительно."
   ]
  },
  {
   "cell_type": "code",
   "execution_count": 2,
   "metadata": {
    "colab": {
     "base_uri": "https://localhost:8080/",
     "height": 119
    },
    "colab_type": "code",
    "executionInfo": {
     "elapsed": 4025,
     "status": "ok",
     "timestamp": 1595276617382,
     "user": {
      "displayName": "Андрей Долгов",
      "photoUrl": "",
      "userId": "03484552280472667237"
     },
     "user_tz": -180
    },
    "id": "xwkbCoIH3Jk1",
    "outputId": "51bf992d-1cb5-491f-b3b8-86418ff6c760"
   },
   "outputs": [
    {
     "name": "stdout",
     "output_type": "stream",
     "text": [
      "2\n",
      "3\n",
      "2\n",
      "3\n"
     ]
    }
   ],
   "source": [
    "a = int(input())\n",
    "b = int(input())\n",
    "for i in range(a, b + 1):\n",
    "    print(i)"
   ]
  },
  {
   "cell_type": "markdown",
   "metadata": {
    "colab_type": "text",
    "id": "4W4uxcy63Jk5"
   },
   "source": [
    "## Задача B\n",
    "По данному натуральном n вычислите сумму $1^2+2^2+3^2+ \\ldots +n^2$."
   ]
  },
  {
   "cell_type": "code",
   "execution_count": 3,
   "metadata": {
    "colab": {
     "base_uri": "https://localhost:8080/",
     "height": 34
    },
    "colab_type": "code",
    "executionInfo": {
     "elapsed": 3234,
     "status": "ok",
     "timestamp": 1595277121508,
     "user": {
      "displayName": "Андрей Долгов",
      "photoUrl": "",
      "userId": "03484552280472667237"
     },
     "user_tz": -180
    },
    "id": "JiZAaVs13Jk6",
    "outputId": "c84bda20-2eb8-4455-da1f-eb1e4b5ab23b"
   },
   "outputs": [
    {
     "name": "stdout",
     "output_type": "stream",
     "text": [
      "4\n",
      "30\n"
     ]
    }
   ],
   "source": [
    "n = int(input())\n",
    "sum = 0\n",
    "for i in range(1, n+1):\n",
    "  sum += i**2\n",
    "print(sum)"
   ]
  },
  {
   "cell_type": "markdown",
   "metadata": {
    "colab_type": "text",
    "id": "Q8f1_Ui-3JlB"
   },
   "source": [
    "## Задача C\n",
    "По данному целому неотрицательному n вычислите значение n!."
   ]
  },
  {
   "cell_type": "code",
   "execution_count": 21,
   "metadata": {
    "colab": {
     "base_uri": "https://localhost:8080/",
     "height": 51
    },
    "colab_type": "code",
    "executionInfo": {
     "elapsed": 4080,
     "status": "ok",
     "timestamp": 1595277347132,
     "user": {
      "displayName": "Андрей Долгов",
      "photoUrl": "",
      "userId": "03484552280472667237"
     },
     "user_tz": -180
    },
    "id": "rmYfcH6i3JlB",
    "outputId": "2257cd20-4800-44a4-fa35-8e284e0513d0"
   },
   "outputs": [
    {
     "name": "stdout",
     "output_type": "stream",
     "text": [
      "3\n",
      "6\n"
     ]
    }
   ],
   "source": [
    "import math\n",
    "n = input()\n",
    "res = math.factorial(n)\n",
    "print(res)\n",
    "\n"
   ]
  },
  {
   "cell_type": "markdown",
   "metadata": {},
   "source": [
    "Второй способ - собственная реализация факториала"
   ]
  },
  {
   "cell_type": "code",
   "execution_count": 6,
   "metadata": {},
   "outputs": [
    {
     "name": "stdout",
     "output_type": "stream",
     "text": [
      "3\n"
     ]
    },
    {
     "data": {
      "text/plain": [
       "6"
      ]
     },
     "execution_count": 6,
     "metadata": {},
     "output_type": "execute_result"
    }
   ],
   "source": [
    "n = int(input())\n",
    "\n",
    "def fac(n):\n",
    "    if n == 0:\n",
    "        return 1\n",
    "    return fac(n-1) * n\n",
    "fac(n)"
   ]
  },
  {
   "cell_type": "markdown",
   "metadata": {
    "colab_type": "text",
    "id": "K5i5J05y3JlF"
   },
   "source": [
    "## Задача D\n",
    "По данным целым неотрицательным n и k вычислите значение числа сочетаний из n элементов по k, то есть $\\frac{n!}{k!(n-k)!}$."
   ]
  },
  {
   "cell_type": "code",
   "execution_count": 9,
   "metadata": {
    "colab": {
     "base_uri": "https://localhost:8080/",
     "height": 68
    },
    "colab_type": "code",
    "executionInfo": {
     "elapsed": 4411,
     "status": "ok",
     "timestamp": 1595302881734,
     "user": {
      "displayName": "Андрей Долгов",
      "photoUrl": "",
      "userId": "03484552280472667237"
     },
     "user_tz": -180
    },
    "id": "KKxlUiC53JlG",
    "outputId": "f92b8f6e-5b09-44fc-9925-4ec4f3c4dee8"
   },
   "outputs": [
    {
     "name": "stdout",
     "output_type": "stream",
     "text": [
      "3\n",
      "1\n",
      "3.0\n"
     ]
    }
   ],
   "source": [
    "n = int(input())\n",
    "k = int(input())\n",
    "\n",
    "def fac(n):\n",
    "    if n == 0:\n",
    "        return 1\n",
    "    return fac(n-1) * n\n",
    "\n",
    "c = fac(n)/(fac(k)*fac(n-k))\n",
    "print(c)"
   ]
  },
  {
   "cell_type": "markdown",
   "metadata": {
    "colab_type": "text",
    "id": "BWHnGi6I3JlL"
   },
   "source": [
    "## Задача E\n",
    "Напишите программу, которая по данному числу n от 1 до 9 выводит на экран n пингвинов. Изображение одного пингвина имеет размер 5×9 символов, между двумя соседними пингвинами также имеется пустой (из пробелов) столбец. Разрешается вывести пустой столбец после последнего пингвина. Для упрощения рисования скопируйте пингвина из примера в среду разработки.\n",
    "\n"
   ]
  },
  {
   "cell_type": "code",
   "execution_count": 2,
   "metadata": {
    "colab": {
     "base_uri": "https://localhost:8080/",
     "height": 119
    },
    "colab_type": "code",
    "executionInfo": {
     "elapsed": 3389,
     "status": "ok",
     "timestamp": 1595358005756,
     "user": {
      "displayName": "Андрей Долгов",
      "photoUrl": "",
      "userId": "03484552280472667237"
     },
     "user_tz": -180
    },
    "id": "NRgQOqUk3JlS",
    "outputId": "6a9b7bfd-185d-4cf7-bd80-cb1ea7c7c148"
   },
   "outputs": [
    {
     "name": "stdout",
     "output_type": "stream",
     "text": [
      "4\n",
      "   _~_       _~_       _~_       _~_    \n",
      "  (o o)     (o o)     (o o)     (o o)   \n",
      " /  V  \\  /  V  \\  /  V  \\  /  V  \\ \n",
      "/(  _  )\\ /(  _  )\\ /(  _  )\\ /(  _  )\\ \n",
      "  ^^ ^^     ^^ ^^     ^^ ^^     ^^ ^^   \n"
     ]
    }
   ],
   "source": [
    "penguine = [\"   _~_    \",\n",
    "            \"  (o o)   \",\n",
    "            \" /  V  \\ \",\n",
    "            \"/(  _  )\\ \",\n",
    "            \"  ^^ ^^   \"]\n",
    " \n",
    "n = int(input())\n",
    "for i in range(len(penguine)):\n",
    "\n",
    "    print(penguine[i] * n)"
   ]
  },
  {
   "cell_type": "code",
   "execution_count": 17,
   "metadata": {},
   "outputs": [
    {
     "name": "stdout",
     "output_type": "stream",
     "text": [
      "2\n",
      "penguine\n",
      "----------\n",
      "_~_\n",
      "(o o)\n",
      "/  V  \\\n",
      "/(  _  )\\\n",
      "^^ ^^\n",
      "penguine\n",
      "----------\n",
      "_~_\n",
      "(o o)\n",
      "/  V  \\\n",
      "/(  _  )\\\n",
      "^^ ^^\n"
     ]
    }
   ],
   "source": [
    "from tabulate import tabulate\n",
    "headers = ['penguine'] \n",
    "\n",
    "penguine = [\"   _~_    \",\n",
    "            \"  (o o)   \",\n",
    "            \" /  V  \\ \",\n",
    "            \"/(  _  )\\ \",\n",
    "            \"  ^^ ^^   \"]  \n",
    "n = int(input())\n",
    "for i in range(n):\n",
    "    table = zip(penguine)\n",
    "    print(tabulate(table, headers=headers))"
   ]
  },
  {
   "cell_type": "markdown",
   "metadata": {
    "colab_type": "text",
    "collapsed": true,
    "id": "7TvFh8bU3JlW"
   },
   "source": [
    "## Задача F\n",
    "Шоколадка имеет вид прямоугольника, разделенного на n×m долек. Шоколадку можно один раз разломить по прямой на две части. Определите, можно ли таким образом отломить от шоколадки ровно k долек."
   ]
  },
  {
   "cell_type": "code",
   "execution_count": 18,
   "metadata": {
    "colab": {
     "base_uri": "https://localhost:8080/",
     "height": 85
    },
    "colab_type": "code",
    "executionInfo": {
     "elapsed": 13880,
     "status": "ok",
     "timestamp": 1595303174669,
     "user": {
      "displayName": "Андрей Долгов",
      "photoUrl": "",
      "userId": "03484552280472667237"
     },
     "user_tz": -180
    },
    "id": "LwKT4uTs3JlX",
    "outputId": "0e77dc6a-e02c-4e2d-b862-bfac6ce1e722"
   },
   "outputs": [
    {
     "name": "stdout",
     "output_type": "stream",
     "text": [
      "2\n",
      "3\n",
      "4\n",
      "YES\n"
     ]
    }
   ],
   "source": [
    "n = int(input())\n",
    "m = int(input())\n",
    "k = int(input())\n",
    "if k < n * m and ((k % n == 0) or (k % m == 0)):\n",
    "    print('YES')\n",
    "else:\n",
    "    print('NO')"
   ]
  },
  {
   "cell_type": "markdown",
   "metadata": {
    "colab_type": "text",
    "id": "omSRZvUJ3Jlb"
   },
   "source": [
    "## Задача G\n",
    "Дано линейное уравнение $ax + b = 0$. Решите уравнение, напечатайте ответ. Если ответов бесконечно много, выведите \"INF\", если их нет - \"NO\"."
   ]
  },
  {
   "cell_type": "code",
   "execution_count": 68,
   "metadata": {
    "colab": {
     "base_uri": "https://localhost:8080/",
     "height": 68
    },
    "colab_type": "code",
    "executionInfo": {
     "elapsed": 16857,
     "status": "ok",
     "timestamp": 1595356592384,
     "user": {
      "displayName": "Андрей Долгов",
      "photoUrl": "",
      "userId": "03484552280472667237"
     },
     "user_tz": -180
    },
    "id": "5xB23Vc33Jlb",
    "outputId": "e2caab8d-c3d2-4888-fc28-50f7b6d75d6e"
   },
   "outputs": [
    {
     "name": "stdout",
     "output_type": "stream",
     "text": [
      "-1.3\n",
      "-1.3\n",
      "-1.0\n"
     ]
    }
   ],
   "source": [
    "a = float(input())\n",
    "b = float(input())\n",
    "\n",
    "if (a == 0 and b == 0):\n",
    "    print('INF')\n",
    "elif (a == 0 and b !=0):\n",
    "    print('NO')\n",
    "else: \n",
    "    print(round((-b) / (a), 2))"
   ]
  },
  {
   "cell_type": "markdown",
   "metadata": {
    "colab_type": "text",
    "id": "S4OGG5Hx3Jlf"
   },
   "source": [
    "## Задача H\n",
    "Для данного числа n < 100 закончите фразу “На лугу пасется...” одним из возможных продолжений: “n коров”, “n корова”, “n коровы”, правильно склоняя слово “корова”."
   ]
  },
  {
   "cell_type": "code",
   "execution_count": 69,
   "metadata": {
    "colab": {
     "base_uri": "https://localhost:8080/",
     "height": 51
    },
    "colab_type": "code",
    "executionInfo": {
     "elapsed": 4505,
     "status": "ok",
     "timestamp": 1595357666055,
     "user": {
      "displayName": "Андрей Долгов",
      "photoUrl": "",
      "userId": "03484552280472667237"
     },
     "user_tz": -180
    },
    "id": "3Oj-KpXp3Jlg",
    "outputId": "a748af92-aab9-457b-a9d2-1267d97c8d2c"
   },
   "outputs": [
    {
     "name": "stdout",
     "output_type": "stream",
     "text": [
      "2\n",
      "2 коровы\n"
     ]
    }
   ],
   "source": [
    "n = int(input())\n",
    "name = 'коров'\n",
    "\n",
    "if n >= 11 and n <= 14:\n",
    "    print(f'{n} {name}')\n",
    "else:\n",
    "    temp = n % 10\n",
    "    if temp == 0 or (temp >= 5 and temp <= 9):\n",
    "        print(f'{n} {name}')\n",
    "    if temp == 1:\n",
    "        print(f'{n} {name}а')\n",
    "    if temp >=2 and temp <=4:\n",
    "        print(f'{n} {name}ы')"
   ]
  },
  {
   "cell_type": "markdown",
   "metadata": {
    "colab_type": "text",
    "id": "75MBG7uz3Jlj"
   },
   "source": [
    "# Задача I. Диофантово уравнение"
   ]
  },
  {
   "cell_type": "markdown",
   "metadata": {
    "colab_type": "text",
    "id": "nHghjr2d3Jlk"
   },
   "source": [
    "Даны числа a, b, c, d. Выведите в порядке возрастания все целые числа от 0 до 1000, которые являются корнями уравнения $ax^3+bx^2+cx+d=0$."
   ]
  },
  {
   "cell_type": "code",
   "execution_count": 35,
   "metadata": {
    "colab": {
     "base_uri": "https://localhost:8080/",
     "height": 102
    },
    "colab_type": "code",
    "executionInfo": {
     "elapsed": 16866,
     "status": "ok",
     "timestamp": 1595363501575,
     "user": {
      "displayName": "Андрей Долгов",
      "photoUrl": "",
      "userId": "03484552280472667237"
     },
     "user_tz": -180
    },
    "id": "zyZgYirG3Jln",
    "outputId": "53b455b6-ee68-4c0c-b826-1083e5402926"
   },
   "outputs": [
    {
     "name": "stdout",
     "output_type": "stream",
     "text": [
      "1\n",
      "1\n",
      "-1\n",
      "-1\n",
      "1\n"
     ]
    }
   ],
   "source": []
  },
  {
   "cell_type": "markdown",
   "metadata": {
    "colab_type": "text",
    "id": "ZPgU5Bx53Jlr"
   },
   "source": [
    "## Задача J\n",
    "Квадрат трехзначного числа оканчивается тремя цифрами, равными этому числу. Найдите и выведите все такие числа."
   ]
  },
  {
   "cell_type": "code",
   "execution_count": 20,
   "metadata": {
    "colab": {},
    "colab_type": "code",
    "id": "dQYAWn763Jlr"
   },
   "outputs": [
    {
     "name": "stdout",
     "output_type": "stream",
     "text": [
      "376\n",
      "625\n"
     ]
    }
   ],
   "source": [
    "for n in range(100, 1000):\n",
    "    if (n ** 2) % 1000 == n:\n",
    "        print(n)"
   ]
  },
  {
   "cell_type": "markdown",
   "metadata": {
    "colab_type": "text",
    "id": "1v6ClbpE3Jlv"
   },
   "source": [
    "## Задача K\n",
    "По данному натуральному $n \\leq 9$ выведите лесенку из n ступенек, i-я ступенька состоит из чисел от 1 до i без пробелов."
   ]
  },
  {
   "cell_type": "code",
   "execution_count": 25,
   "metadata": {
    "colab": {},
    "colab_type": "code",
    "id": "u5sYke253Jlx"
   },
   "outputs": [
    {
     "name": "stdout",
     "output_type": "stream",
     "text": [
      "3\n",
      "1\n",
      "12\n",
      "123\n",
      "\n",
      "1.3661715984344482\n"
     ]
    }
   ],
   "source": [
    "from time import time\n",
    " \n",
    " \n",
    "tic = time()\n",
    "\n",
    "n = int(input())\n",
    "\n",
    "for i in range(n):\n",
    "    for j in range(1, i+2):\n",
    "        print(j, end='')\n",
    "    print()\n",
    "    \n",
    "toc = time()\n",
    "print() \n",
    "print(toc - tic)"
   ]
  },
  {
   "cell_type": "markdown",
   "metadata": {},
   "source": [
    "Реализация со строками:"
   ]
  },
  {
   "cell_type": "code",
   "execution_count": 9,
   "metadata": {},
   "outputs": [
    {
     "name": "stdout",
     "output_type": "stream",
     "text": [
      "3\n",
      "1\n",
      "12\n",
      "123\n",
      "\n",
      "1.4631938934326172\n"
     ]
    }
   ],
   "source": [
    "from time import time\n",
    " \n",
    " \n",
    "tic = time()\n",
    "\n",
    "n=int(input())\n",
    "s=\"\"\n",
    "for i in range (n):\n",
    "    s=s+str(n-n+i+1)\n",
    "    print(s)\n",
    "    \n",
    "toc = time()\n",
    "print() \n",
    "print(toc - tic)"
   ]
  },
  {
   "cell_type": "markdown",
   "metadata": {
    "colab_type": "text",
    "id": "ZzNkaHOW3Jl0"
   },
   "source": [
    "## Задача L\n",
    "Дано три числа. Упорядочите их в порядке неубывания. Программа должна считывать три числа a, b, c, затем программа должна менять их значения так, чтобы стали выполнены условия $a \\leq b \\leq c$, затем программа выводит тройку a, b, c."
   ]
  },
  {
   "cell_type": "code",
   "execution_count": 40,
   "metadata": {
    "colab": {},
    "colab_type": "code",
    "id": "XnnnZoHO3Jl1"
   },
   "outputs": [
    {
     "name": "stdout",
     "output_type": "stream",
     "text": [
      "1\n",
      "3\n",
      "10\n",
      "1 3 10\n"
     ]
    }
   ],
   "source": [
    "a = int(input())\n",
    "b = int(input())\n",
    "c = int(input())\n",
    "if a > b:\n",
    "    a, b = b, a\n",
    "if b > c:\n",
    "    b, c = c, b\n",
    "if a > b:\n",
    "    a, b = b, a\n",
    "print(a, b, c)"
   ]
  },
  {
   "cell_type": "markdown",
   "metadata": {
    "colab_type": "text",
    "id": "IeFgJQmf3Jl5"
   },
   "source": [
    "## Задача M\n",
    "Давным-давно билет на одну поездку в метро стоил 15 рубля, билет на 10 поездок стоил 125 рублей, билет на 60 поездок стоил 440 рублей. Пассажир планирует совершить n поездок. Определите, сколько билетов каждого вида он должен приобрести, чтобы суммарное количество оплаченных поездок было не меньше n, а общая стоимость приобретенных билетов — минимальна."
   ]
  },
  {
   "cell_type": "code",
   "execution_count": 24,
   "metadata": {
    "colab": {},
    "colab_type": "code",
    "id": "Ciq_oidP3Jl7"
   },
   "outputs": [
    {
     "name": "stdout",
     "output_type": "stream",
     "text": [
      "200\n",
      "число билетов на 60 поездок 3\n",
      "число билетов на 10 поездок 2\n",
      "число билетов на 1 поездку 0\n"
     ]
    }
   ],
   "source": [
    "n = int(input())\n",
    "n1 = 15 \n",
    "n10 = 125\n",
    "n60 = 440\n",
    "\n",
    "S1 = (n // 60)\n",
    "S2 = ((n - S1*60) // 10)\n",
    "S3 = n - S1*60 - S2*10 \n",
    "\n",
    "S_itog = S1*440+S2*125+S3*10\n",
    "print(\"число билетов на 60 поездок\", S1)\n",
    "print(\"число билетов на 10 поездок\", S2)\n",
    "print(\"число билетов на 1 поездку\", S3)"
   ]
  },
  {
   "cell_type": "markdown",
   "metadata": {
    "colab_type": "text",
    "id": "nYUNZpF43Jl_"
   },
   "source": [
    "Попробуйте решить как задачу линейного программирования с помощью SciPy"
   ]
  },
  {
   "cell_type": "code",
   "execution_count": null,
   "metadata": {
    "colab": {},
    "colab_type": "code",
    "id": "hzI9dKIo3JmA"
   },
   "outputs": [],
   "source": []
  },
  {
   "cell_type": "markdown",
   "metadata": {
    "colab_type": "text",
    "id": "z7elw_bg3JmF"
   },
   "source": [
    "## Задача N. Сумма факториалов\n",
    "По данному натуральном n вычислите сумму 1! + 2! + 3! + ... +n!. В решении этой задачи можно использовать только один цикл."
   ]
  },
  {
   "cell_type": "code",
   "execution_count": 59,
   "metadata": {
    "colab": {},
    "colab_type": "code",
    "id": "YZedDTIc3JmF"
   },
   "outputs": [
    {
     "name": "stdout",
     "output_type": "stream",
     "text": [
      "3\n",
      "9\n"
     ]
    }
   ],
   "source": [
    "import math\n",
    "n = int(input())\n",
    "res = 0\n",
    "for i in range(1, n+1):\n",
    "    res = res + int(math.factorial(i))\n",
    "print(res)"
   ]
  }
 ],
 "metadata": {
  "colab": {
   "collapsed_sections": [
    "-l5HVNI13Jk0",
    "4W4uxcy63Jk5",
    "Q8f1_Ui-3JlB",
    "K5i5J05y3JlF",
    "BWHnGi6I3JlL",
    "7TvFh8bU3JlW",
    "omSRZvUJ3Jlb",
    "S4OGG5Hx3Jlf",
    "75MBG7uz3Jlj"
   ],
   "name": "lesson3_tasks.ipynb",
   "provenance": []
  },
  "kernelspec": {
   "display_name": "Python 3",
   "language": "python",
   "name": "python3"
  },
  "language_info": {
   "codemirror_mode": {
    "name": "ipython",
    "version": 3
   },
   "file_extension": ".py",
   "mimetype": "text/x-python",
   "name": "python",
   "nbconvert_exporter": "python",
   "pygments_lexer": "ipython3",
   "version": "3.7.6"
  },
  "name": "seminar1_python_intro_tools.ipynb"
 },
 "nbformat": 4,
 "nbformat_minor": 1
}
